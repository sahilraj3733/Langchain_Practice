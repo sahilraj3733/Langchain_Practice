{
 "cells": [
  {
   "cell_type": "code",
   "execution_count": 60,
   "id": "929cfabf",
   "metadata": {},
   "outputs": [],
   "source": [
    "import os\n",
    "from dotenv import load_dotenv\n",
    "load_dotenv()\n",
    "\n",
    "\n",
    "\n",
    "chatgroqapi=os.getenv('GROQ_API_KEY')"
   ]
  },
  {
   "cell_type": "code",
   "execution_count": 61,
   "id": "739c7c83",
   "metadata": {},
   "outputs": [],
   "source": [
    "from langchain_groq import ChatGroq\n",
    "llm=ChatGroq(model=\"Llama3-8b-8192\",api_key=chatgroqapi)"
   ]
  },
  {
   "cell_type": "code",
   "execution_count": 62,
   "id": "b1ceef91",
   "metadata": {},
   "outputs": [
    {
     "data": {
      "text/plain": [
       "28"
      ]
     },
     "execution_count": 62,
     "metadata": {},
     "output_type": "execute_result"
    }
   ],
   "source": [
    "from langchain_core.tools import tool\n",
    "from langchain_core.messages import HumanMessage\n",
    "@tool\n",
    "def Multiply(a:int,b:int)->int:\n",
    "    \"\"\"Given 2 numbers a and b this tool returns their product\"\"\"\n",
    "    return (a*b)\n",
    "\n",
    "Multiply.invoke({'a':7,\"b\":4})"
   ]
  },
  {
   "cell_type": "markdown",
   "id": "b4097f0b",
   "metadata": {},
   "source": [
    "# tool binding"
   ]
  },
  {
   "cell_type": "code",
   "execution_count": 63,
   "id": "41f8f668",
   "metadata": {},
   "outputs": [
    {
     "data": {
      "text/plain": [
       "AIMessage(content='', additional_kwargs={'tool_calls': [{'id': 'call_hzma', 'function': {'arguments': '{\"a\":2,\"b\":3}', 'name': 'Multiply'}, 'type': 'function'}]}, response_metadata={'token_usage': {'completion_tokens': 72, 'prompt_tokens': 901, 'total_tokens': 973, 'completion_time': 0.06, 'prompt_time': 0.112380192, 'queue_time': 0.25149582600000003, 'total_time': 0.172380192}, 'model_name': 'Llama3-8b-8192', 'system_fingerprint': 'fp_dadc9d6142', 'finish_reason': 'tool_calls', 'logprobs': None}, id='run--a76d4e1e-e818-43e5-b209-59b04accb352-0', tool_calls=[{'name': 'Multiply', 'args': {'a': 2, 'b': 3}, 'id': 'call_hzma', 'type': 'tool_call'}], usage_metadata={'input_tokens': 901, 'output_tokens': 72, 'total_tokens': 973})"
      ]
     },
     "execution_count": 63,
     "metadata": {},
     "output_type": "execute_result"
    }
   ],
   "source": [
    "llmwithtool=llm.bind_tools([Multiply])\n",
    "llmwithtool.invoke(\"HI\")"
   ]
  },
  {
   "cell_type": "code",
   "execution_count": 64,
   "id": "8f0a6eaa",
   "metadata": {},
   "outputs": [],
   "source": [
    "result=llmwithtool.invoke(\"multiply 4 with 10\")"
   ]
  },
  {
   "cell_type": "code",
   "execution_count": 65,
   "id": "ffbdabff",
   "metadata": {},
   "outputs": [
    {
     "data": {
      "text/plain": [
       "{'name': 'Multiply',\n",
       " 'args': {'a': 4, 'b': 10},\n",
       " 'id': 'call_r262',\n",
       " 'type': 'tool_call'}"
      ]
     },
     "execution_count": 65,
     "metadata": {},
     "output_type": "execute_result"
    }
   ],
   "source": [
    "result.tool_calls[0]"
   ]
  },
  {
   "cell_type": "code",
   "execution_count": 66,
   "id": "f6fbd592",
   "metadata": {},
   "outputs": [
    {
     "data": {
      "text/plain": [
       "ToolMessage(content='40', name='Multiply', tool_call_id='call_r262')"
      ]
     },
     "execution_count": 66,
     "metadata": {},
     "output_type": "execute_result"
    }
   ],
   "source": [
    "Multiply.invoke(result.tool_calls[0])"
   ]
  },
  {
   "cell_type": "code",
   "execution_count": 73,
   "id": "4a729395",
   "metadata": {},
   "outputs": [
    {
     "data": {
      "text/plain": [
       "[HumanMessage(content='can you multiply 3 with 1000', additional_kwargs={}, response_metadata={})]"
      ]
     },
     "execution_count": 73,
     "metadata": {},
     "output_type": "execute_result"
    }
   ],
   "source": [
    "\n",
    "query=HumanMessage(\"can you multiply 3 with 1000\")\n",
    "messages=[query]\n",
    "\n",
    "messages"
   ]
  },
  {
   "cell_type": "code",
   "execution_count": 74,
   "id": "13655d04",
   "metadata": {},
   "outputs": [],
   "source": [
    "result=llmwithtool.invoke(messages)"
   ]
  },
  {
   "cell_type": "code",
   "execution_count": 75,
   "id": "bd4b350e",
   "metadata": {},
   "outputs": [
    {
     "data": {
      "text/plain": [
       "[HumanMessage(content='can you multiply 3 with 1000', additional_kwargs={}, response_metadata={}),\n",
       " AIMessage(content='', additional_kwargs={'tool_calls': [{'id': 'call_wtv4', 'function': {'arguments': '{\"a\":3,\"b\":1000}', 'name': 'Multiply'}, 'type': 'function'}]}, response_metadata={'token_usage': {'completion_tokens': 73, 'prompt_tokens': 909, 'total_tokens': 982, 'completion_time': 0.060833333, 'prompt_time': 0.169489593, 'queue_time': 1.312696695, 'total_time': 0.230322926}, 'model_name': 'Llama3-8b-8192', 'system_fingerprint': 'fp_179b0f92c9', 'finish_reason': 'tool_calls', 'logprobs': None}, id='run--0e173c74-783d-4b37-996d-d7db96ad4944-0', tool_calls=[{'name': 'Multiply', 'args': {'a': 3, 'b': 1000}, 'id': 'call_wtv4', 'type': 'tool_call'}], usage_metadata={'input_tokens': 909, 'output_tokens': 73, 'total_tokens': 982})]"
      ]
     },
     "execution_count": 75,
     "metadata": {},
     "output_type": "execute_result"
    }
   ],
   "source": [
    "messages.append(result)\n",
    "\n",
    "messages"
   ]
  },
  {
   "cell_type": "code",
   "execution_count": 107,
   "id": "7da02405",
   "metadata": {},
   "outputs": [
    {
     "data": {
      "text/plain": [
       "ToolMessage(content='3000', name='Multiply', tool_call_id='call_wtv4')"
      ]
     },
     "execution_count": 107,
     "metadata": {},
     "output_type": "execute_result"
    }
   ],
   "source": [
    "tool_result=Multiply.invoke(result.tool_calls[0])\n",
    "tool_result"
   ]
  },
  {
   "cell_type": "code",
   "execution_count": 77,
   "id": "ab19b90d",
   "metadata": {},
   "outputs": [
    {
     "data": {
      "text/plain": [
       "[HumanMessage(content='can you multiply 3 with 1000', additional_kwargs={}, response_metadata={}),\n",
       " AIMessage(content='', additional_kwargs={'tool_calls': [{'id': 'call_wtv4', 'function': {'arguments': '{\"a\":3,\"b\":1000}', 'name': 'Multiply'}, 'type': 'function'}]}, response_metadata={'token_usage': {'completion_tokens': 73, 'prompt_tokens': 909, 'total_tokens': 982, 'completion_time': 0.060833333, 'prompt_time': 0.169489593, 'queue_time': 1.312696695, 'total_time': 0.230322926}, 'model_name': 'Llama3-8b-8192', 'system_fingerprint': 'fp_179b0f92c9', 'finish_reason': 'tool_calls', 'logprobs': None}, id='run--0e173c74-783d-4b37-996d-d7db96ad4944-0', tool_calls=[{'name': 'Multiply', 'args': {'a': 3, 'b': 1000}, 'id': 'call_wtv4', 'type': 'tool_call'}], usage_metadata={'input_tokens': 909, 'output_tokens': 73, 'total_tokens': 982}),\n",
       " ToolMessage(content='3000', name='Multiply', tool_call_id='call_wtv4')]"
      ]
     },
     "execution_count": 77,
     "metadata": {},
     "output_type": "execute_result"
    }
   ],
   "source": [
    "messages.append(tool_result)\n",
    "\n",
    "messages"
   ]
  },
  {
   "cell_type": "code",
   "execution_count": 80,
   "id": "78799762",
   "metadata": {},
   "outputs": [
    {
     "data": {
      "text/plain": [
       "AIMessage(content='3000', additional_kwargs={}, response_metadata={'token_usage': {'completion_tokens': 3, 'prompt_tokens': 1975, 'total_tokens': 1978, 'completion_time': 0.0025, 'prompt_time': 0.245958421, 'queue_time': -0.27180486000000004, 'total_time': 0.248458421}, 'model_name': 'Llama3-8b-8192', 'system_fingerprint': 'fp_179b0f92c9', 'finish_reason': 'stop', 'logprobs': None}, id='run--869128ee-58fe-44cb-b2d7-ae37bcf65626-0', usage_metadata={'input_tokens': 1975, 'output_tokens': 3, 'total_tokens': 1978})"
      ]
     },
     "execution_count": 80,
     "metadata": {},
     "output_type": "execute_result"
    }
   ],
   "source": [
    "llmwithtool.invoke(messages)"
   ]
  },
  {
   "cell_type": "markdown",
   "id": "92ee0ae2",
   "metadata": {},
   "source": [
    "## Currency conversion"
   ]
  },
  {
   "cell_type": "code",
   "execution_count": 82,
   "id": "4331e1c1",
   "metadata": {},
   "outputs": [],
   "source": [
    "# tool create\n",
    "from langchain_core.tools import InjectedToolArg\n",
    "from typing import Annotated\n",
    "import requests\n",
    "\n",
    "@tool\n",
    "def get_conversion_factor(base_currency: str, target_currency: str) -> float:\n",
    "  \"\"\"\n",
    "  This function fetches the currency conversion factor between a given base currency and a target currency\n",
    "  \"\"\"\n",
    "  url = f'https://v6.exchangerate-api.com/v6/c754eab14ffab33112e380ca/pair/{base_currency}/{target_currency}'\n",
    "\n",
    "  response = requests.get(url)\n",
    "\n",
    "  return response.json()\n",
    "\n",
    "@tool\n",
    "def convert(base_currency_value: int, conversion_rate: Annotated[float, InjectedToolArg]) -> float:\n",
    "  \"\"\"\n",
    "  given a currency conversion rate this function calculates the target currency value from a given base currency value\n",
    "  \"\"\"\n",
    "\n",
    "  return base_currency_value * conversion_rate\n"
   ]
  },
  {
   "cell_type": "code",
   "execution_count": 83,
   "id": "9abf2ef1",
   "metadata": {},
   "outputs": [
    {
     "data": {
      "text/plain": [
       "{'base_currency_value': {'title': 'Base Currency Value', 'type': 'integer'},\n",
       " 'conversion_rate': {'title': 'Conversion Rate', 'type': 'number'}}"
      ]
     },
     "execution_count": 83,
     "metadata": {},
     "output_type": "execute_result"
    }
   ],
   "source": [
    "convert.args"
   ]
  },
  {
   "cell_type": "code",
   "execution_count": 84,
   "id": "3dc30cdf",
   "metadata": {},
   "outputs": [
    {
     "data": {
      "text/plain": [
       "{'result': 'success',\n",
       " 'documentation': 'https://www.exchangerate-api.com/docs',\n",
       " 'terms_of_use': 'https://www.exchangerate-api.com/terms',\n",
       " 'time_last_update_unix': 1748044801,\n",
       " 'time_last_update_utc': 'Sat, 24 May 2025 00:00:01 +0000',\n",
       " 'time_next_update_unix': 1748131201,\n",
       " 'time_next_update_utc': 'Sun, 25 May 2025 00:00:01 +0000',\n",
       " 'base_code': 'USD',\n",
       " 'target_code': 'INR',\n",
       " 'conversion_rate': 85.4133}"
      ]
     },
     "execution_count": 84,
     "metadata": {},
     "output_type": "execute_result"
    }
   ],
   "source": [
    "get_conversion_factor.invoke({'base_currency':'USD','target_currency':'INR'})"
   ]
  },
  {
   "cell_type": "code",
   "execution_count": 85,
   "id": "8d2e1550",
   "metadata": {},
   "outputs": [
    {
     "data": {
      "text/plain": [
       "851.5999999999999"
      ]
     },
     "execution_count": 85,
     "metadata": {},
     "output_type": "execute_result"
    }
   ],
   "source": [
    "convert.invoke({'base_currency_value':10, 'conversion_rate':85.16})"
   ]
  },
  {
   "cell_type": "code",
   "execution_count": 96,
   "id": "71e723b2",
   "metadata": {},
   "outputs": [],
   "source": [
    "llm=ChatGroq(model=\"Llama3-8b-8192\",api_key=chatgroqapi)\n",
    "llm_with_tools = llm.bind_tools([get_conversion_factor, convert])"
   ]
  },
  {
   "cell_type": "code",
   "execution_count": 97,
   "id": "89822587",
   "metadata": {},
   "outputs": [],
   "source": [
    "messages = [HumanMessage('What is the conversion factor between INR and USD, and based on that can you convert 10 inr to usd')]"
   ]
  },
  {
   "cell_type": "code",
   "execution_count": 98,
   "id": "a5c540e8",
   "metadata": {},
   "outputs": [
    {
     "data": {
      "text/plain": [
       "[HumanMessage(content='What is the conversion factor between INR and USD, and based on that can you convert 10 inr to usd', additional_kwargs={}, response_metadata={})]"
      ]
     },
     "execution_count": 98,
     "metadata": {},
     "output_type": "execute_result"
    }
   ],
   "source": [
    "messages"
   ]
  },
  {
   "cell_type": "code",
   "execution_count": 99,
   "id": "ef62c7d4",
   "metadata": {},
   "outputs": [],
   "source": [
    "ai_message = llm_with_tools.invoke(messages)"
   ]
  },
  {
   "cell_type": "code",
   "execution_count": 100,
   "id": "d7b3ced2",
   "metadata": {},
   "outputs": [],
   "source": [
    "messages.append(ai_message)"
   ]
  },
  {
   "cell_type": "code",
   "execution_count": 101,
   "id": "fabfdad1",
   "metadata": {},
   "outputs": [
    {
     "data": {
      "text/plain": [
       "[{'name': 'get_conversion_factor',\n",
       "  'args': {'base_currency': 'INR', 'target_currency': 'USD'},\n",
       "  'id': 'call_dkx6',\n",
       "  'type': 'tool_call'}]"
      ]
     },
     "execution_count": 101,
     "metadata": {},
     "output_type": "execute_result"
    }
   ],
   "source": [
    "ai_message.tool_calls"
   ]
  },
  {
   "cell_type": "code",
   "execution_count": 102,
   "id": "257a891e",
   "metadata": {},
   "outputs": [],
   "source": [
    "import json\n",
    "\n",
    "for tool_call in ai_message.tool_calls:\n",
    "  # execute the 1st tool and get the value of conversion rate\n",
    "  if tool_call['name'] == 'get_conversion_factor':\n",
    "    tool_message1 = get_conversion_factor.invoke(tool_call)\n",
    "    # fetch this conversion rate\n",
    "    conversion_rate = json.loads(tool_message1.content)['conversion_rate']\n",
    "    # append this tool message to messages list\n",
    "    messages.append(tool_message1)\n",
    "  # execute the 2nd tool using the conversion rate from tool 1\n",
    "  if tool_call['name'] == 'convert':\n",
    "    # fetch the current arg\n",
    "    tool_call['args']['conversion_rate'] = conversion_rate\n",
    "    tool_message2 = convert.invoke(tool_call)\n",
    "    messages.append(tool_message2)\n",
    "\n"
   ]
  },
  {
   "cell_type": "code",
   "execution_count": 103,
   "id": "9a2d9fdf",
   "metadata": {},
   "outputs": [
    {
     "data": {
      "text/plain": [
       "[HumanMessage(content='What is the conversion factor between INR and USD, and based on that can you convert 10 inr to usd', additional_kwargs={}, response_metadata={}),\n",
       " AIMessage(content='', additional_kwargs={'tool_calls': [{'id': 'call_dkx6', 'function': {'arguments': '{\"base_currency\":\"INR\",\"target_currency\":\"USD\"}', 'name': 'get_conversion_factor'}, 'type': 'function'}]}, response_metadata={'token_usage': {'completion_tokens': 77, 'prompt_tokens': 1048, 'total_tokens': 1125, 'completion_time': 0.064166667, 'prompt_time': 0.13094705, 'queue_time': 0.24929977999999997, 'total_time': 0.195113717}, 'model_name': 'Llama3-8b-8192', 'system_fingerprint': 'fp_dadc9d6142', 'finish_reason': 'tool_calls', 'logprobs': None}, id='run--74f58998-e11a-446c-bc78-aec8167d0f48-0', tool_calls=[{'name': 'get_conversion_factor', 'args': {'base_currency': 'INR', 'target_currency': 'USD'}, 'id': 'call_dkx6', 'type': 'tool_call'}], usage_metadata={'input_tokens': 1048, 'output_tokens': 77, 'total_tokens': 1125}),\n",
       " ToolMessage(content='{\"result\": \"success\", \"documentation\": \"https://www.exchangerate-api.com/docs\", \"terms_of_use\": \"https://www.exchangerate-api.com/terms\", \"time_last_update_unix\": 1748044801, \"time_last_update_utc\": \"Sat, 24 May 2025 00:00:01 +0000\", \"time_next_update_unix\": 1748131201, \"time_next_update_utc\": \"Sun, 25 May 2025 00:00:01 +0000\", \"base_code\": \"INR\", \"target_code\": \"USD\", \"conversion_rate\": 0.01171}', name='get_conversion_factor', tool_call_id='call_dkx6')]"
      ]
     },
     "execution_count": 103,
     "metadata": {},
     "output_type": "execute_result"
    }
   ],
   "source": [
    "messages"
   ]
  },
  {
   "cell_type": "code",
   "execution_count": 105,
   "id": "a9e9ce18",
   "metadata": {},
   "outputs": [
    {
     "data": {
      "text/plain": [
       "AIMessage(content='', additional_kwargs={'tool_calls': [{'id': 'call_5d4e', 'function': {'arguments': '{\"base_currency_value\":10,\"function\":{\"name\":\"get_conversion_factor\",\"result\":{\"conversion_rate\":0.01171}}}', 'name': 'convert'}, 'type': 'function'}]}, response_metadata={'token_usage': {'completion_tokens': 53, 'prompt_tokens': 1255, 'total_tokens': 1308, 'completion_time': 0.044166667, 'prompt_time': 0.157872051, 'queue_time': 0.25435510299999997, 'total_time': 0.202038718}, 'model_name': 'Llama3-8b-8192', 'system_fingerprint': 'fp_179b0f92c9', 'finish_reason': 'tool_calls', 'logprobs': None}, id='run--6560e43f-4a2c-4071-9d52-c3940623e62b-0', tool_calls=[{'name': 'convert', 'args': {'base_currency_value': 10, 'function': {'name': 'get_conversion_factor', 'result': {'conversion_rate': 0.01171}}}, 'id': 'call_5d4e', 'type': 'tool_call'}], usage_metadata={'input_tokens': 1255, 'output_tokens': 53, 'total_tokens': 1308})"
      ]
     },
     "execution_count": 105,
     "metadata": {},
     "output_type": "execute_result"
    }
   ],
   "source": [
    "llm_with_tools.invoke(messages)"
   ]
  },
  {
   "cell_type": "code",
   "execution_count": null,
   "id": "e23c80d8",
   "metadata": {},
   "outputs": [],
   "source": []
  },
  {
   "cell_type": "code",
   "execution_count": null,
   "id": "de187a59",
   "metadata": {},
   "outputs": [],
   "source": []
  }
 ],
 "metadata": {
  "kernelspec": {
   "display_name": "Python 3",
   "language": "python",
   "name": "python3"
  },
  "language_info": {
   "codemirror_mode": {
    "name": "ipython",
    "version": 3
   },
   "file_extension": ".py",
   "mimetype": "text/x-python",
   "name": "python",
   "nbconvert_exporter": "python",
   "pygments_lexer": "ipython3",
   "version": "3.10.0"
  }
 },
 "nbformat": 4,
 "nbformat_minor": 5
}
