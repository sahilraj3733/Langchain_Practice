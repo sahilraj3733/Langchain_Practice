{
 "cells": [
  {
   "cell_type": "code",
   "execution_count": 1,
   "id": "ca971099",
   "metadata": {},
   "outputs": [
    {
     "data": {
      "text/plain": [
       "True"
      ]
     },
     "execution_count": 1,
     "metadata": {},
     "output_type": "execute_result"
    }
   ],
   "source": [
    "import os\n",
    "from dotenv import load_dotenv\n",
    "load_dotenv()\n"
   ]
  },
  {
   "cell_type": "markdown",
   "id": "cfd95035",
   "metadata": {},
   "source": [
    "## Without any output parser"
   ]
  },
  {
   "cell_type": "code",
   "execution_count": 6,
   "id": "8104abd4",
   "metadata": {},
   "outputs": [
    {
     "data": {
      "text/plain": [
       "ChatGroq(client=<groq.resources.chat.completions.Completions object at 0x000001D53673F460>, async_client=<groq.resources.chat.completions.AsyncCompletions object at 0x000001D536760070>, model_name='Llama3-8b-8192', model_kwargs={}, groq_api_key=SecretStr('**********'))"
      ]
     },
     "execution_count": 6,
     "metadata": {},
     "output_type": "execute_result"
    }
   ],
   "source": [
    "from langchain_groq import ChatGroq\n",
    "from langchain_core.prompts import PromptTemplate\n",
    "groq_api_key=os.getenv(\"GROQ_API_KEY\")\n",
    "\n",
    "model=ChatGroq(groq_api_key=groq_api_key,model=\"Llama3-8b-8192\")\n",
    "model"
   ]
  },
  {
   "cell_type": "code",
   "execution_count": null,
   "metadata": {},
   "outputs": [
    {
     "name": "stderr",
     "output_type": "stream",
     "text": [
      "c:\\Users\\Sahil\\Desktop\\GenAI_Cousera\\langchain\\venv\\lib\\site-packages\\huggingface_hub\\file_download.py:139: UserWarning: `huggingface_hub` cache-system uses symlinks by default to efficiently store duplicated files but your machine does not support them in C:\\Users\\Sahil\\.cache\\huggingface\\hub\\models--TinyLlama--TinyLlama-1.1B-chat-v1.0. Caching files will still work but in a degraded version that might require more space on your disk. This warning can be disabled by setting the `HF_HUB_DISABLE_SYMLINKS_WARNING` environment variable. For more details, see https://huggingface.co/docs/huggingface_hub/how-to-cache#limitations.\n",
      "To support symlinks on Windows, you either need to activate Developer Mode or to run Python as an administrator. In order to activate developer mode, see this article: https://docs.microsoft.com/en-us/windows/apps/get-started/enable-your-device-for-development\n",
      "  warnings.warn(message)\n"
     ]
    }
   ],
   "source": []
  },
  {
   "cell_type": "code",
   "execution_count": null,
   "metadata": {},
   "outputs": [
    {
     "name": "stdout",
     "output_type": "stream",
     "text": [
      "content='Here is a 5-line summary of the text:\\n\\nBlack holes are regions of spacetime with incredibly high density and gravitational pull, where nothing, not even light, can escape once it falls within a certain distance. They are formed when a massive star collapses in on itself, and have several key characteristics, including an event horizon, singularity, and strong gravitational pull. There are four types of black holes, including stellar, supermassive, intermediate-mass, and primordial black holes. Black holes can be detected through their effects on the surrounding environment, such as X-rays, gamma rays, and gravitational waves. Ongoing research aims to shed light on the formation, properties, and consequences of black holes, and to test our understanding of the universe.' additional_kwargs={} response_metadata={'token_usage': {'completion_tokens': 153, 'prompt_tokens': 1074, 'total_tokens': 1227, 'completion_time': 0.1275, 'prompt_time': 0.298200642, 'queue_time': 0.252805362, 'total_time': 0.425700642}, 'model_name': 'Llama3-8b-8192', 'system_fingerprint': 'fp_dadc9d6142', 'finish_reason': 'stop', 'logprobs': None} id='run-f8e1aa3b-3fb5-4ba2-a15a-f80c352edcfb-0' usage_metadata={'input_tokens': 1074, 'output_tokens': 153, 'total_tokens': 1227}\n"
     ]
    }
   ],
   "source": [
    "template1=PromptTemplate(\n",
    "    template=\"Write a detailed report on {topic}\",\n",
    "    input_variables=['topic']\n",
    ")\n",
    "\n",
    "template2=PromptTemplate(\n",
    "    template=\"Write a 5 line summary on the following text. /n {text}\",\n",
    "    input_variables=['text']\n",
    ")\n",
    "prompt1=template1.invoke({'topic':'black hole'})  ## we can also do template1.foramte()\n",
    "\n",
    "result=model.invoke(prompt1)\n",
    "\n",
    "prompt2=template2.invoke({'text':result.content})\n",
    "\n",
    "result1=model.invoke(prompt2)\n",
    "print(result1)\n"
   ]
  },
  {
   "cell_type": "markdown",
   "id": "d863a547",
   "metadata": {},
   "source": [
    "## String ouput parser"
   ]
  },
  {
   "cell_type": "code",
   "execution_count": 8,
   "id": "e34ab19a",
   "metadata": {},
   "outputs": [
    {
     "data": {
      "text/plain": [
       "'Here is a 5-line summary of the text:\\n\\nBlack holes are regions of spacetime with incredibly strong gravitational pull, where nothing can escape once it crosses the event horizon. They come in various sizes, from stellar black holes formed from star collapse to supermassive black holes at galaxy centers. Black holes have properties such as mass, charge, and spin, and their behavior is influenced by their accretion disks, jets, and winds. The study of black holes has led to important advances in our understanding of gravity, spacetime, and the behavior of matter and energy. Black holes play a crucial role in the evolution of the universe, influencing the formation of galaxies and the distribution of matter.'"
      ]
     },
     "execution_count": 8,
     "metadata": {},
     "output_type": "execute_result"
    }
   ],
   "source": [
    "from langchain_core.output_parsers import StrOutputParser\n",
    "\n",
    "parser=StrOutputParser()\n",
    "\n",
    "chain=template1|model|parser|template2|model|parser\n",
    "\n",
    "result=chain.invoke({'topic':'black hole'})\n",
    "result"
   ]
  },
  {
   "cell_type": "markdown",
   "id": "dd79d9f4",
   "metadata": {},
   "source": [
    "## JSON Output parser"
   ]
  },
  {
   "cell_type": "code",
   "execution_count": 11,
   "id": "3d219276",
   "metadata": {},
   "outputs": [
    {
     "data": {
      "text/plain": [
       "{'name': 'Evelyn Starling', 'age': 32, 'city': 'Portland'}"
      ]
     },
     "execution_count": 11,
     "metadata": {},
     "output_type": "execute_result"
    }
   ],
   "source": [
    "from langchain_core.output_parsers import JsonOutputParser\n",
    "parser=JsonOutputParser()\n",
    "template1=PromptTemplate(\n",
    "    template='Give me the name, age city of a fictional person\\n{format_instruction}',\n",
    "    input_variables=[],\n",
    "    partial_variables={'format_instruction':parser.get_format_instructions()}\n",
    ")\n",
    "\n",
    "promt=template1.format()\n",
    "result=model.invoke(promt)\n",
    "final_result=parser.parse(result.content)\n",
    "final_result"
   ]
  },
  {
   "cell_type": "code",
   "execution_count": 12,
   "id": "d105f21d",
   "metadata": {},
   "outputs": [
    {
     "data": {
      "text/plain": [
       "{'name': 'Evelyn Stone', 'age': 32, 'city': 'Portland'}"
      ]
     },
     "execution_count": 12,
     "metadata": {},
     "output_type": "execute_result"
    }
   ],
   "source": [
    "chain=template1|model|parser\n",
    "result=chain.invoke({})\n",
    "result"
   ]
  },
  {
   "cell_type": "markdown",
   "id": "2ea9f1ac",
   "metadata": {},
   "source": [
    "draw back of jsonout parser-> you doesnot force a schema\n"
   ]
  },
  {
   "cell_type": "markdown",
   "id": "d3a8cf54",
   "metadata": {},
   "source": [
    "## Structured output parser"
   ]
  },
  {
   "cell_type": "markdown",
   "id": "b4da63d5",
   "metadata": {},
   "source": [
    "output->json but here we can provide a schema"
   ]
  },
  {
   "cell_type": "code",
   "execution_count": 16,
   "id": "06c290b4",
   "metadata": {},
   "outputs": [
    {
     "data": {
      "text/plain": [
       "{'fact_1': 'Black holes are regions in space where the gravitational pull is so strong that nothing, including light, can escape. They are formed when a massive star collapses in on itself and its gravity becomes so strong that it warps the fabric of spacetime.',\n",
       " 'fact_2': \"The event horizon of a black hole is the point of no return. Once something crosses the event horizon, it is trapped by the black hole's gravity and cannot escape, even if it's moving at the speed of light.\",\n",
       " 'fact_3': 'Black holes come in various sizes, ranging from small, stellar-mass black holes formed from the collapse of individual stars, to supermassive black holes found at the centers of galaxies, with masses millions or even billions of times that of the sun.'}"
      ]
     },
     "execution_count": 16,
     "metadata": {},
     "output_type": "execute_result"
    }
   ],
   "source": [
    "from langchain.output_parsers import StructuredOutputParser,ResponseSchema\n",
    "\n",
    "schema=[\n",
    "    ResponseSchema(name='fact_1',description='Fact 1 about the topic'),\n",
    "    ResponseSchema(name='fact_2',description='Fact 2 about the topic'),\n",
    "    ResponseSchema(name='fact_3',description='Fact 3 about the topic'),\n",
    "]\n",
    "\n",
    "\n",
    "template=PromptTemplate(\n",
    "    template='Give 3 facts about {topic} \\n {formate_instruction}',\n",
    "    input_variables=['topic'],\n",
    "    partial_variables={'formate_instruction':parser.get_format_instructions()}\n",
    "\n",
    ")\n",
    "\n",
    "parser=StructuredOutputParser.from_response_schemas(schema)\n",
    "prompt=template.invoke({'topic':'black hole'})\n",
    "result=model.invoke(prompt)\n",
    "final_result=parser.parse(result.content)\n",
    "final_result"
   ]
  },
  {
   "cell_type": "code",
   "execution_count": 17,
   "id": "4c8bd28d",
   "metadata": {},
   "outputs": [
    {
     "data": {
      "text/plain": [
       "{'fact_1': 'Black holes are regions in space where the gravitational pull is so strong that nothing, including light, can escape once it falls inside.',\n",
       " 'fact_2': 'The event horizon of a black hole is the point of no return, where the gravitational pull is so strong that anything that crosses it will be consumed by the black hole.',\n",
       " 'fact_3': 'The size of a black hole is typically measured by its mass, spin, and charge, and can range from small, stellar-mass black holes formed from the collapse of individual stars, to supermassive black holes found at the centers of galaxies.'}"
      ]
     },
     "execution_count": 17,
     "metadata": {},
     "output_type": "execute_result"
    }
   ],
   "source": [
    "chain=template|model|parser\n",
    "result=chain.invoke({'topic':'black hole'})\n",
    "result"
   ]
  },
  {
   "cell_type": "markdown",
   "id": "331823b2",
   "metadata": {},
   "source": [
    "we can not do Data validation in StructuredOutputParser"
   ]
  },
  {
   "cell_type": "markdown",
   "id": "1805056b",
   "metadata": {},
   "source": [
    "## Pydantic Output parser"
   ]
  },
  {
   "cell_type": "markdown",
   "id": "d024a0d5",
   "metadata": {},
   "source": []
  },
  {
   "cell_type": "code",
   "execution_count": 18,
   "id": "c8379af3",
   "metadata": {},
   "outputs": [],
   "source": [
    "from langchain_core.output_parsers import PydanticOutputParser\n",
    "from pydantic import BaseModel,Field"
   ]
  },
  {
   "cell_type": "code",
   "execution_count": 19,
   "id": "009ac304",
   "metadata": {},
   "outputs": [
    {
     "name": "stdout",
     "output_type": "stream",
     "text": [
      "name='Tharindu Silva' age=25 city='Colombo'\n"
     ]
    }
   ],
   "source": [
    "class Person(BaseModel):\n",
    "\n",
    "    name: str = Field(description='Name of the person')\n",
    "    age: int = Field(gt=18, description='Age of the person')\n",
    "    city: str = Field(description='Name of the city the person belongs to')\n",
    "\n",
    "parser = PydanticOutputParser(pydantic_object=Person)\n",
    "\n",
    "template = PromptTemplate(\n",
    "    template='Generate the name, age and city of a fictional {place} person \\n {format_instruction}',\n",
    "    input_variables=['place'],\n",
    "    partial_variables={'format_instruction':parser.get_format_instructions()}\n",
    ")\n",
    "\n",
    "chain = template | model | parser\n",
    "\n",
    "final_result = chain.invoke({'place':'sri lankan'})\n",
    "\n",
    "print(final_result)"
   ]
  },
  {
   "cell_type": "code",
   "execution_count": null,
   "id": "1d1e290e",
   "metadata": {},
   "outputs": [],
   "source": []
  }
 ],
 "metadata": {
  "kernelspec": {
   "display_name": "Python 3",
   "language": "python",
   "name": "python3"
  },
  "language_info": {
   "codemirror_mode": {
    "name": "ipython",
    "version": 3
   },
   "file_extension": ".py",
   "mimetype": "text/x-python",
   "name": "python",
   "nbconvert_exporter": "python",
   "pygments_lexer": "ipython3",
   "version": "3.10.0"
  }
 },
 "nbformat": 4,
 "nbformat_minor": 5
}
