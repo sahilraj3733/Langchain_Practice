{
 "cells": [
  {
   "cell_type": "markdown",
   "id": "8231c3f5",
   "metadata": {},
   "source": [
    "## 1.Simple Chain"
   ]
  },
  {
   "cell_type": "code",
   "execution_count": 1,
   "id": "36e411a4",
   "metadata": {},
   "outputs": [],
   "source": [
    "import os\n",
    "from dotenv import load_dotenv\n",
    "from langchain_core.prompts import PromptTemplate\n",
    "from langchain_core.output_parsers import StrOutputParser\n",
    "from langchain_groq import ChatGroq\n",
    "\n",
    "\n",
    "load_dotenv()\n",
    "groq_api=os.getenv('groq_api')\n",
    "llm=ChatGroq(model='gemma2-9b-it',api_key=groq_api)\n"
   ]
  },
  {
   "cell_type": "code",
   "execution_count": 4,
   "id": "bda6c3e4",
   "metadata": {},
   "outputs": [],
   "source": [
    "prompt = PromptTemplate(\n",
    "    template='Generate 5 interesting facts about {topic}',\n",
    "    input_variables=['topic']\n",
    ")\n",
    "\n",
    "parser=StrOutputParser()\n",
    "\n",
    "chain=prompt|llm|parser\n",
    "\n",
    "output=chain.invoke({'topic':'Cricket'})"
   ]
  },
  {
   "cell_type": "code",
   "execution_count": 5,
   "id": "5d3f79dd",
   "metadata": {},
   "outputs": [
    {
     "name": "stdout",
     "output_type": "stream",
     "text": [
      "Here are 5 interesting facts about cricket:\n",
      "\n",
      "1. **Cricket originated in England, but is now most popular in Asia and Australia:** While it began in villages across England as early as the 16th century, cricket's global popularity surged in the 20th century thanks to India, Pakistan, Australia, and other nations. Today, it's a truly international sport.\n",
      "\n",
      "2. **The world's largest cricket stadium is in India:** The Narendra Modi Stadium in Ahmedabad, India, boasts a capacity of over 132,000 spectators. That’s larger than the population of many small towns!\n",
      "\n",
      "3. **There are more formats of cricket than just Test Matches:** Alongside the traditional five-day Test matches, there's One Day International (ODI) cricket, which lasts for a single day, and Twenty20 (T20) cricket, a fast-paced version that completes in around three hours.\n",
      "\n",
      "4. **\"Duck\" isn't just a bird, it's a cricketing term:** If a batsman scores zero runs and gets out in the same innings, they are said to have been \"duck.\"  \n",
      "\n",
      "5. **The first ever Cricket World Cup was held in 1975:**  The inaugural tournament was won by the West Indies, and it has since become a major global sporting event, showcasing the best cricketing talent from around the world.\n",
      "\n",
      "\n",
      "\n",
      "Let me know if you'd like to know more!\n",
      "\n"
     ]
    }
   ],
   "source": [
    "print(output)"
   ]
  },
  {
   "cell_type": "markdown",
   "id": "b836164b",
   "metadata": {},
   "source": [
    "## 2. Sequential"
   ]
  },
  {
   "cell_type": "code",
   "execution_count": 7,
   "id": "0fb38abd",
   "metadata": {},
   "outputs": [
    {
     "data": {
      "text/plain": [
       "'Here\\'s a 4-point summary of the text:\\n\\n* **Global Phenomenon:** Cricket originated in England but gained massive popularity in Asia and Australia, making it a truly international sport.\\n* **Stadium Spectacle:** The Narendra Modi Stadium in India holds the record for the world\\'s largest cricket stadium with a capacity exceeding 132,000 spectators.\\n* **Variety of Formats:**  Cricket encompasses various formats beyond the traditional Test Matches, including One Day Internationals (ODIs) and fast-paced Twenty20 (T20) matches.\\n* **Cricket Terminology:**  \"Duck\" in cricket refers to a batsman scoring zero runs and getting out within the same innings. \\n\\n\\n\\n'"
      ]
     },
     "execution_count": 7,
     "metadata": {},
     "output_type": "execute_result"
    }
   ],
   "source": [
    "prompt=PromptTemplate(\n",
    "    template=\"Generate a 4 point summary from this text {text}\",\n",
    "    input_variables=['text']\n",
    ")\n",
    "\n",
    "chain=prompt|llm|parser\n",
    "chain.invoke({'text':output})"
   ]
  },
  {
   "cell_type": "markdown",
   "id": "43e599c2",
   "metadata": {},
   "source": [
    "## 3. Parallel"
   ]
  },
  {
   "cell_type": "code",
   "execution_count": 15,
   "id": "e1812977",
   "metadata": {},
   "outputs": [],
   "source": [
    "from langchain.schema.runnable import RunnableParallel\n",
    "\n",
    "\n",
    "prompt1=PromptTemplate(\n",
    "    template=\"Generate a short simple Note on the text of {text}\",\n",
    "    input_variables=['text']\n",
    ")\n",
    "prompt2 = PromptTemplate(\n",
    "    template='Generate 5 short question answers from the following text \\n {text}',\n",
    "    input_variables=['text']\n",
    ")\n",
    "\n",
    "prompt3 = PromptTemplate(\n",
    "    template='Merge the provided notes and quiz into a single document \\n notes -> {notes} and quiz -> {quiz}',\n",
    "    input_variables=['notes', 'quiz']\n",
    ")"
   ]
  },
  {
   "cell_type": "code",
   "execution_count": 16,
   "id": "1176702f",
   "metadata": {},
   "outputs": [],
   "source": [
    "\n",
    "paralle_chain=RunnableParallel(\n",
    "    {\n",
    "        'notes':prompt1|llm|parser,\n",
    "        'quiz':prompt2|llm|parser\n",
    "        \n",
    "        \n",
    "    }\n",
    ")\n",
    "merge_chain=prompt3|llm|parser\n",
    "final_chain=paralle_chain|merge_chain\n",
    "text = \"\"\"\n",
    "Support vector machines (SVMs) are a set of supervised learning methods used for classification, regression and outliers detection.\n",
    "\n",
    "The advantages of support vector machines are:\n",
    "\n",
    "Effective in high dimensional spaces.\n",
    "\n",
    "Still effective in cases where number of dimensions is greater than the number of samples.\n",
    "\n",
    "Uses a subset of training points in the decision function (called support vectors), so it is also memory efficient.\n",
    "\n",
    "Versatile: different Kernel functions can be specified for the decision function. Common kernels are provided, but it is also possible to specify custom kernels.\n",
    "\n",
    "The disadvantages of support vector machines include:\n",
    "\n",
    "If the number of features is much greater than the number of samples, avoid over-fitting in choosing Kernel functions and regularization term is crucial.\n",
    "\n",
    "SVMs do not directly provide probability estimates, these are calculated using an expensive five-fold cross-validation (see Scores and probabilities, below).\n",
    "\n",
    "The support vector machines in scikit-learn support both dense (numpy.ndarray and convertible to that by numpy.asarray) and sparse (any scipy.sparse) sample vectors as input. However, to use an SVM to make predictions for sparse data, it must have been fit on such data. For optimal performance, use C-ordered numpy.ndarray (dense) or scipy.sparse.csr_matrix (sparse) with dtype=float64.\n",
    "\"\"\"\n",
    "response=final_chain.invoke({'text':text})"
   ]
  },
  {
   "cell_type": "code",
   "execution_count": 17,
   "id": "bc34eea5",
   "metadata": {},
   "outputs": [
    {
     "data": {
      "text/plain": [
       "\"## Support Vector Machines (SVMs): A Quick Overview\\n\\n**What they are:** SVMs are supervised learning algorithms used for classification, regression, and outlier detection.\\n\\n**Advantages:**\\n\\n* **Effective in high dimensions:**  Work well even when the number of features exceeds the number of samples.\\n* **Memory efficient:**  Only use a subset of training data (support vectors) for decision making.\\n* **Versatile:**  Different kernel functions can be used to customize the decision boundary.\\n\\n**Disadvantages:**\\n\\n* **Overfitting risk:**  Careful selection of kernel functions and regularization is crucial when features outnumber samples.\\n* **No direct probability estimates:**  Probability calculations require expensive cross-validation.\\n\\n**Input Data:**\\n\\n* Can handle both dense (numpy arrays) and sparse (scipy sparse) data.\\n* **Important:**  Must train on the same data type used for prediction.\\n\\n**Optimal Performance:**\\n\\n* Use C-ordered numpy arrays (dense) or scipy.sparse.csr_matrix (sparse) with dtype=float64.\\n\\n**Quiz**\\n\\n**1. What are Support Vector Machines (SVMs) primarily used for?**\\n\\n**Answer:** SVMs are used for classification, regression, and outlier detection.\\n\\n**2. What is a key advantage of SVMs in terms of memory usage?**\\n\\n**Answer:** SVMs use only a subset of training points (support vectors) for the decision function, making them memory efficient.\\n\\n**3. What is a potential disadvantage of SVMs when the number of features is high?**\\n\\n**Answer:** Overfitting can occur if the kernel functions and regularization term are not carefully chosen.\\n\\n**4. How do SVMs handle probability estimates?**\\n\\n**Answer:** SVMs do not directly provide probability estimates. These need to be calculated using expensive five-fold cross-validation.\\n\\n**5. What type of input data does scikit-learn's SVM implementation support?**\\n\\n**Answer:**  scikit-learn's SVM supports both dense (numpy arrays) and sparse (scipy.sparse) sample vectors.\\n\\n\\n\\n\\n\""
      ]
     },
     "execution_count": 17,
     "metadata": {},
     "output_type": "execute_result"
    }
   ],
   "source": [
    "response"
   ]
  },
  {
   "cell_type": "code",
   "execution_count": 21,
   "id": "c2ce6538",
   "metadata": {},
   "outputs": [
    {
     "name": "stdout",
     "output_type": "stream",
     "text": [
      "          +---------------------------+            \n",
      "          | Parallel<notes,quiz>Input |            \n",
      "          +---------------------------+            \n",
      "                ***             ***                \n",
      "              **                   **              \n",
      "            **                       **            \n",
      "+----------------+              +----------------+ \n",
      "| PromptTemplate |              | PromptTemplate | \n",
      "+----------------+              +----------------+ \n",
      "          *                             *          \n",
      "          *                             *          \n",
      "          *                             *          \n",
      "    +----------+                  +----------+     \n",
      "    | ChatGroq |                  | ChatGroq |     \n",
      "    +----------+                  +----------+     \n",
      "          *                             *          \n",
      "          *                             *          \n",
      "          *                             *          \n",
      "+-----------------+            +-----------------+ \n",
      "| StrOutputParser |            | StrOutputParser | \n",
      "+-----------------+            +-----------------+ \n",
      "                ***             ***                \n",
      "                   **         **                   \n",
      "                     **     **                     \n",
      "          +----------------------------+           \n",
      "          | Parallel<notes,quiz>Output |           \n",
      "          +----------------------------+           \n",
      "                         *                         \n",
      "                         *                         \n",
      "                         *                         \n",
      "                +----------------+                 \n",
      "                | PromptTemplate |                 \n",
      "                +----------------+                 \n",
      "                         *                         \n",
      "                         *                         \n",
      "                         *                         \n",
      "                   +----------+                    \n",
      "                   | ChatGroq |                    \n",
      "                   +----------+                    \n",
      "                         *                         \n",
      "                         *                         \n",
      "                         *                         \n",
      "                +-----------------+                \n",
      "                | StrOutputParser |                \n",
      "                +-----------------+                \n",
      "                         *                         \n",
      "                         *                         \n",
      "                         *                         \n",
      "            +-----------------------+              \n",
      "            | StrOutputParserOutput |              \n",
      "            +-----------------------+              \n"
     ]
    }
   ],
   "source": [
    "final_chain.get_graph().print_ascii()"
   ]
  },
  {
   "cell_type": "markdown",
   "id": "0baeaddc",
   "metadata": {},
   "source": [
    "## conditional chain"
   ]
  },
  {
   "cell_type": "code",
   "execution_count": 30,
   "id": "f9f7d8fd",
   "metadata": {},
   "outputs": [],
   "source": [
    "from langchain.schema.runnable import RunnableParallel,RunnableBranch,RunnableLambda\n",
    "from langchain_core.output_parsers import PydanticOutputParser\n",
    "from typing import Literal\n",
    "from pydantic import BaseModel,Field\n",
    "\n",
    "\n",
    "class Feedback(BaseModel):\n",
    "\n",
    "    sentiment: Literal['positive', 'negative'] = Field(description='Give the sentiment of the feedback')\n",
    "\n",
    "parser2 = PydanticOutputParser(pydantic_object=Feedback)\n",
    "\n",
    "prompt1 = PromptTemplate(\n",
    "    template='Classify the sentiment of the following feedback text into postive or negative \\n {feedback} \\n {format_instruction}',\n",
    "    input_variables=['feedback'],\n",
    "    partial_variables={'format_instruction':parser2.get_format_instructions()}\n",
    ")\n",
    "\n",
    "classifier_chain=prompt1|llm|parser2\n",
    "\n",
    "prompt2 = PromptTemplate(\n",
    "    template='Write an appropriate response to this positive feedback \\n {feedback}',\n",
    "    input_variables=['feedback']\n",
    ")\n",
    "\n",
    "prompt3 = PromptTemplate(\n",
    "    template='Write an appropriate response to this negative feedback \\n {feedback}',\n",
    "    input_variables=['feedback']\n",
    ")"
   ]
  },
  {
   "cell_type": "code",
   "execution_count": 31,
   "id": "160222b0",
   "metadata": {},
   "outputs": [
    {
     "name": "stdout",
     "output_type": "stream",
     "text": [
      "Here are a few appropriate responses to positive feedback, depending on the context:\n",
      "\n",
      "**Formal:**\n",
      "\n",
      "* \"Thank you for your kind words. I'm glad you found [what you liked] helpful/enjoyable.\"\n",
      "* \"We appreciate your positive feedback. We strive to provide excellent service/products and are pleased to hear we met your expectations.\"\n",
      "\n",
      "**Informal:**\n",
      "\n",
      "* \"Thanks so much! I'm so happy you liked it.\"\n",
      "* \"That means a lot to me! Thanks for the feedback.\"\n",
      "* \"Awesome! I'm glad it worked out well for you.\"\n",
      "\n",
      "**Adding a personal touch:**\n",
      "\n",
      "* \"Thank you! I put a lot of effort into [what you liked] and it's great to know it made a difference.\"\n",
      "* \"I'm thrilled you enjoyed [what you liked].  [Mention something specific about their feedback].\"\n",
      "\n",
      "\n",
      "No matter which response you choose, make sure it is sincere and reflects your appreciation for the positive feedback. \n",
      "\n"
     ]
    }
   ],
   "source": [
    "branch_chain=RunnableBranch(\n",
    "   (lambda x:x.sentiment=='positive',prompt2|llm|parser),\n",
    "   (lambda x:x.sentiment=='negative',prompt3|llm|parser),\n",
    "   RunnableLambda(lambda x:\"could not find sentiment\")\n",
    ")\n",
    "chain = classifier_chain | branch_chain\n",
    "\n",
    "print(chain.invoke({'feedback': 'This is a beautiful phone'}))\n",
    "\n"
   ]
  },
  {
   "cell_type": "code",
   "execution_count": 27,
   "id": "b53ed07b",
   "metadata": {},
   "outputs": [
    {
     "name": "stdout",
     "output_type": "stream",
     "text": [
      "    +-------------+      \n",
      "    | PromptInput |      \n",
      "    +-------------+      \n",
      "            *            \n",
      "            *            \n",
      "            *            \n",
      "   +----------------+    \n",
      "   | PromptTemplate |    \n",
      "   +----------------+    \n",
      "            *            \n",
      "            *            \n",
      "            *            \n",
      "      +----------+       \n",
      "      | ChatGroq |       \n",
      "      +----------+       \n",
      "            *            \n",
      "            *            \n",
      "            *            \n",
      "+----------------------+ \n",
      "| PydanticOutputParser | \n",
      "+----------------------+ \n",
      "            *            \n",
      "            *            \n",
      "            *            \n",
      "       +--------+        \n",
      "       | Branch |        \n",
      "       +--------+        \n",
      "            *            \n",
      "            *            \n",
      "            *            \n",
      "    +--------------+     \n",
      "    | BranchOutput |     \n",
      "    +--------------+     \n"
     ]
    }
   ],
   "source": [
    "chain.get_graph().print_ascii()"
   ]
  },
  {
   "cell_type": "code",
   "execution_count": null,
   "id": "3396f752",
   "metadata": {},
   "outputs": [],
   "source": []
  }
 ],
 "metadata": {
  "kernelspec": {
   "display_name": "myenv",
   "language": "python",
   "name": "python3"
  },
  "language_info": {
   "codemirror_mode": {
    "name": "ipython",
    "version": 3
   },
   "file_extension": ".py",
   "mimetype": "text/x-python",
   "name": "python",
   "nbconvert_exporter": "python",
   "pygments_lexer": "ipython3",
   "version": "3.13.5"
  }
 },
 "nbformat": 4,
 "nbformat_minor": 5
}
