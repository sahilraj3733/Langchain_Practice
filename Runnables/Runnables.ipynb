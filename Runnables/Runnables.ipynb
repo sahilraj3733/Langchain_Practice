{
 "cells": [
  {
   "cell_type": "code",
   "execution_count": 1,
   "id": "d1ff0b22",
   "metadata": {},
   "outputs": [],
   "source": [
    "import os\n",
    "from dotenv import load_dotenv\n",
    "from langchain_core.prompts import PromptTemplate\n",
    "from langchain_core.output_parsers import StrOutputParser\n",
    "from langchain_groq import ChatGroq\n",
    "\n",
    "\n",
    "load_dotenv()\n",
    "groq_api=os.getenv('groq_api')\n",
    "llm=ChatGroq(model='gemma2-9b-it',api_key=groq_api)\n"
   ]
  },
  {
   "cell_type": "markdown",
   "id": "b9c4f64a",
   "metadata": {},
   "source": [
    "## Runnables Seq"
   ]
  },
  {
   "cell_type": "code",
   "execution_count": 3,
   "id": "80955fba",
   "metadata": {},
   "outputs": [
    {
     "data": {
      "text/plain": [
       "'You got it! This joke plays on the double meaning of the phrase \"make up.\"\\n\\n* **Literal Meaning:** Atoms are the fundamental building blocks of all matter. They literally \"make up\" everything around us, from the chairs we sit on to the air we breathe. \\n\\n* **Figurative Meaning:**  \"Making up\" something can also mean to invent a story or lie. \\n\\nThe joke sets you up to think about trustworthiness, then uses the scientific fact about atoms to deliver a punny twist.  It\\'s funny because it\\'s unexpected and uses wordplay.  \\n\\n\\nWant to hear another joke?  😄 \\n\\n'"
      ]
     },
     "execution_count": 3,
     "metadata": {},
     "output_type": "execute_result"
    }
   ],
   "source": [
    "from langchain.schema.runnable import RunnableSequence\n",
    "\n",
    "\n",
    "parser = StrOutputParser()\n",
    "\n",
    "prompt1 = PromptTemplate(\n",
    "    template='Write a joke about {topic}',\n",
    "    input_variables=['topic']\n",
    ")\n",
    "prompt2 = PromptTemplate(\n",
    "    template='Explain the following joke - {text}',\n",
    "    input_variables=['text']\n",
    ")\n",
    "chain=RunnableSequence(prompt1,llm,parser,prompt2,llm,parser)\n",
    "chain.invoke({'topic':'Gravity'})"
   ]
  },
  {
   "cell_type": "markdown",
   "id": "8a2af1ed",
   "metadata": {},
   "source": [
    "## Runnable Parallel"
   ]
  },
  {
   "cell_type": "code",
   "execution_count": 5,
   "id": "921431ca",
   "metadata": {},
   "outputs": [
    {
     "name": "stdout",
     "output_type": "stream",
     "text": [
      "AI is changing the world at an incredible pace! 🤯  From writing code to creating art, its potential seems limitless. What do you think the biggest impact of AI will be in the next 5 years? #AI #technology #future  🚀\n",
      "\n",
      "##  Is AI a Threat or an Opportunity? 🤔\n",
      "\n",
      "The rapid advancements in AI are undeniable, sparking both excitement and apprehension.  \n",
      "\n",
      "While some fear job displacement and ethical dilemmas, I see AI as a powerful tool for **enhancing our capabilities and driving positive change**. \n",
      "\n",
      "🚀 **Here's why:**\n",
      "\n",
      "* **Increased efficiency and productivity:** AI can automate repetitive tasks, freeing up human time for more creative and strategic endeavors.\n",
      "* **Data-driven insights:** AI can analyze massive datasets to reveal hidden patterns and trends, leading to better decision-making.\n",
      "* **Personalized experiences:** AI can tailor products and services to individual needs, creating more engaging and satisfying interactions.\n",
      "\n",
      "**The key to harnessing the potential of AI lies in responsible development and ethical considerations.**  \n",
      "\n",
      "We must ensure that AI is used for the benefit of humanity, addressing biases, promoting fairness, and protecting privacy. \n",
      "\n",
      "**What are your thoughts on the impact of AI? Share your perspectives in the comments below!** \n",
      "\n",
      "#AI #ArtificialIntelligence #Technology #Innovation #FutureOfWork #Ethics  \n",
      "\n",
      "\n",
      "\n",
      "\n"
     ]
    }
   ],
   "source": [
    "\n",
    "from langchain.schema.runnable import RunnableParallel,RunnableSequence\n",
    "\n",
    "prompt1 = PromptTemplate(\n",
    "    template='Generate a tweet about {topic}',\n",
    "    input_variables=['topic']\n",
    ")\n",
    "\n",
    "prompt2 = PromptTemplate(\n",
    "    template='Generate a Linkedin post about {topic}',\n",
    "    input_variables=['topic']\n",
    ")\n",
    "\n",
    "\n",
    "\n",
    "parser = StrOutputParser()\n",
    "\n",
    "parallel_chain = RunnableParallel({\n",
    "    'tweet': RunnableSequence(prompt1, llm, parser),\n",
    "    'linkedin': RunnableSequence(prompt2, llm, parser)\n",
    "})\n",
    "\n",
    "result = parallel_chain.invoke({'topic':'AI'})\n",
    "\n",
    "print(result['tweet'])\n",
    "print(result['linkedin'])"
   ]
  },
  {
   "cell_type": "markdown",
   "id": "5ddb6ecc",
   "metadata": {},
   "source": [
    "## Runnables Passthrough"
   ]
  },
  {
   "cell_type": "code",
   "execution_count": 10,
   "id": "44b9d59c",
   "metadata": {},
   "outputs": [
    {
     "name": "stdout",
     "output_type": "stream",
     "text": [
      "{'tweet': 'Why did the cricket player bring a ladder to the match? 🪜🏏 Because he heard the scores were high! 😂 #cricketjokes #dadjokes \\n\\nLet me know if you want another one! 😊  \\n\\n', 'linkedin': \"## Why did the cricket player bring a ladder to the match? 🪜🏏\\n\\nBecause he heard the scores were high! 😂 \\n\\nThis one's a real wicket-taker!  \\n\\nLet's be honest, sometimes all it takes is a good laugh to get us through the day.  What's your favorite cricket joke? Share it in the comments below! 👇\\n\\n#cricket #jokes #humour #sports #cricketlife #laughterisbestmedicine  \\n\\n\\n\\n\"}\n"
     ]
    }
   ],
   "source": [
    "from langchain.schema.runnable import RunnablePassthrough,RunnableSequence,RunnableParallel\n",
    "\n",
    "prompt11 = PromptTemplate(\n",
    "    template='Write a joke about {topic}',\n",
    "    input_variables=['topic']\n",
    ")\n",
    "\n",
    "prompt21 = PromptTemplate(\n",
    "    template='Explain the following joke - {text}',\n",
    "    input_variables=['text']\n",
    ")\n",
    "\n",
    "joke_chain=RunnableSequence(prompt11|llm|parser)\n",
    "\n",
    "parelle_chain=RunnableParallel(\n",
    "    {\n",
    "    'joke':RunnablePassthrough(),\n",
    "    'explain':RunnableSequence(prompt21, llm, parser)\n",
    "    }\n",
    ")\n",
    "\n",
    "final_chain=RunnableSequence(joke_chain, parallel_chain)\n",
    "\n",
    "print(final_chain.invoke({'topic':'cricket'}))"
   ]
  },
  {
   "cell_type": "markdown",
   "id": "ddfb0fbd",
   "metadata": {},
   "source": [
    "## Runnable Lambda"
   ]
  },
  {
   "cell_type": "code",
   "execution_count": 11,
   "id": "f9a9683b",
   "metadata": {},
   "outputs": [
    {
     "name": "stdout",
     "output_type": "stream",
     "text": [
      "Why was the AI so good at poker? \n",
      "\n",
      "Because it had a neural network!  🃏🧠  \n",
      "\n",
      "\n",
      "Let me know if you'd like to hear another one! 😊  \n",
      " \n",
      " word count - 26\n"
     ]
    }
   ],
   "source": [
    "from langchain.schema.runnable import RunnableSequence, RunnableLambda, RunnablePassthrough, RunnableParallel\n",
    "\n",
    "def word_count(text):\n",
    "    return len(text.split())\n",
    "\n",
    "prompt = PromptTemplate(\n",
    "    template='Write a joke about {topic}',\n",
    "    input_variables=['topic']\n",
    ")\n",
    "\n",
    "parser = StrOutputParser()\n",
    "joke_gen_chain = RunnableSequence(prompt, llm, parser)\n",
    "\n",
    "parallel_chain = RunnableParallel({\n",
    "    'joke': RunnablePassthrough(),\n",
    "    'word_count': RunnableLambda(word_count)\n",
    "})\n",
    "\n",
    "final_chain = RunnableSequence(joke_gen_chain, parallel_chain)\n",
    "\n",
    "result = final_chain.invoke({'topic':'AI'})\n",
    "\n",
    "final_result = \"\"\"{} \\n word count - {}\"\"\".format(result['joke'], result['word_count'])\n",
    "\n",
    "print(final_result)"
   ]
  },
  {
   "cell_type": "markdown",
   "id": "e72fff4a",
   "metadata": {},
   "source": [
    "## Runnable Branch"
   ]
  },
  {
   "cell_type": "code",
   "execution_count": 14,
   "id": "37d54db8",
   "metadata": {},
   "outputs": [],
   "source": [
    "from langchain.schema.runnable import RunnableSequence, RunnableParallel, RunnablePassthrough, RunnableBranch, RunnableLambda\n",
    "\n",
    "prompt1 = PromptTemplate(\n",
    "    template='Write a detailed report on {topic}',\n",
    "    input_variables=['topic']\n",
    ")\n",
    "\n",
    "prompt2 = PromptTemplate(\n",
    "    template='Summarize the following text \\n {text}',\n",
    "    input_variables=['text']\n",
    ")"
   ]
  },
  {
   "cell_type": "code",
   "execution_count": 15,
   "id": "572f6902",
   "metadata": {},
   "outputs": [
    {
     "name": "stdout",
     "output_type": "stream",
     "text": [
      "This report provides a comprehensive analysis of the Russia-Ukraine conflict, tracing its roots back to the collapse of the Soviet Union and highlighting key events like the Orange Revolution, the Euromaidan Uprising, and the 2014 annexation of Crimea.  \n",
      "\n",
      "The report details the conflict's political and economic ramifications for both Ukraine and Russia, as well as its impact on NATO and the global order. \n",
      "\n",
      "It emphasizes the international condemnation and economic sanctions imposed on Russia following its full-scale invasion of Ukraine in 2022. \n",
      "\n",
      "Finally, the report outlines potential future scenarios, ranging from a protracted conflict to a negotiated settlement or even a wider war involving NATO, stressing the uncertainty surrounding the conflict's outcome and its lasting geopolitical implications. \n",
      "\n",
      "\n",
      "\n",
      "\n"
     ]
    }
   ],
   "source": [
    "parser = StrOutputParser()\n",
    "\n",
    "report_gen_chain = prompt1 | llm| parser\n",
    "\n",
    "branch_chain = RunnableBranch(\n",
    "    (lambda x: len(x.split())>300, prompt2 | llm | parser),\n",
    "    RunnablePassthrough()\n",
    ")\n",
    "\n",
    "final_chain = RunnableSequence(report_gen_chain, branch_chain)\n",
    "\n",
    "print(final_chain.invoke({'topic':'Russia vs Ukraine'}))\n"
   ]
  },
  {
   "cell_type": "code",
   "execution_count": null,
   "id": "a8cc2709",
   "metadata": {},
   "outputs": [],
   "source": []
  }
 ],
 "metadata": {
  "kernelspec": {
   "display_name": "myenv",
   "language": "python",
   "name": "python3"
  },
  "language_info": {
   "codemirror_mode": {
    "name": "ipython",
    "version": 3
   },
   "file_extension": ".py",
   "mimetype": "text/x-python",
   "name": "python",
   "nbconvert_exporter": "python",
   "pygments_lexer": "ipython3",
   "version": "3.13.5"
  }
 },
 "nbformat": 4,
 "nbformat_minor": 5
}
